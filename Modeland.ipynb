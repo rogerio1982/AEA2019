{
  "nbformat": 4,
  "nbformat_minor": 0,
  "metadata": {
    "colab": {
      "provenance": [],
      "authorship_tag": "ABX9TyOIr7OszOz63MOIhDmGURib",
      "include_colab_link": true
    },
    "kernelspec": {
      "name": "python3",
      "display_name": "Python 3"
    },
    "language_info": {
      "name": "python"
    }
  },
  "cells": [
    {
      "cell_type": "markdown",
      "metadata": {
        "id": "view-in-github",
        "colab_type": "text"
      },
      "source": [
        "<a href=\"https://colab.research.google.com/github/rogerio1982/AEA2019/blob/master/Modeland.ipynb\" target=\"_parent\"><img src=\"https://colab.research.google.com/assets/colab-badge.svg\" alt=\"Open In Colab\"/></a>"
      ]
    },
    {
      "cell_type": "markdown",
      "source": [
        "**Project detect mask**\n",
        "\n",
        "Steps:\n",
        "1. Install tool and upload a Model development in the Keras\n",
        "2. Convert to Model in the Core MLModel\n",
        "3. Zip and download project\n",
        "4. Use in your mobile project"
      ],
      "metadata": {
        "id": "v4VsIm83_VnU"
      }
    },
    {
      "cell_type": "code",
      "execution_count": 2,
      "metadata": {
        "colab": {
          "base_uri": "https://localhost:8080/"
        },
        "id": "U6vMms0dxYnR",
        "outputId": "a58dcb27-43d7-4190-de76-f867e01b9c31"
      },
      "outputs": [
        {
          "output_type": "stream",
          "name": "stdout",
          "text": [
            "Collecting coremltools\n",
            "  Downloading coremltools-7.0-cp310-none-manylinux1_x86_64.whl (1.9 MB)\n",
            "\u001b[2K     \u001b[90m━━━━━━━━━━━━━━━━━━━━━━━━━━━━━━━━━━━━━━━━\u001b[0m \u001b[32m1.9/1.9 MB\u001b[0m \u001b[31m17.8 MB/s\u001b[0m eta \u001b[36m0:00:00\u001b[0m\n",
            "\u001b[?25hRequirement already satisfied: numpy>=1.14.5 in /usr/local/lib/python3.10/dist-packages (from coremltools) (1.23.5)\n",
            "Requirement already satisfied: protobuf<=4.0.0,>=3.1.0 in /usr/local/lib/python3.10/dist-packages (from coremltools) (3.20.3)\n",
            "Requirement already satisfied: sympy in /usr/local/lib/python3.10/dist-packages (from coremltools) (1.12)\n",
            "Requirement already satisfied: tqdm in /usr/local/lib/python3.10/dist-packages (from coremltools) (4.66.1)\n",
            "Requirement already satisfied: packaging in /usr/local/lib/python3.10/dist-packages (from coremltools) (23.2)\n",
            "Requirement already satisfied: attrs>=21.3.0 in /usr/local/lib/python3.10/dist-packages (from coremltools) (23.1.0)\n",
            "Collecting cattrs (from coremltools)\n",
            "  Downloading cattrs-23.1.2-py3-none-any.whl (50 kB)\n",
            "\u001b[2K     \u001b[90m━━━━━━━━━━━━━━━━━━━━━━━━━━━━━━━━━━━━━━━━\u001b[0m \u001b[32m50.8/50.8 kB\u001b[0m \u001b[31m6.2 MB/s\u001b[0m eta \u001b[36m0:00:00\u001b[0m\n",
            "\u001b[?25hCollecting pyaml (from coremltools)\n",
            "  Downloading pyaml-23.9.7-py3-none-any.whl (23 kB)\n",
            "Requirement already satisfied: exceptiongroup in /usr/local/lib/python3.10/dist-packages (from cattrs->coremltools) (1.1.3)\n",
            "Requirement already satisfied: typing_extensions>=4.1.0 in /usr/local/lib/python3.10/dist-packages (from cattrs->coremltools) (4.5.0)\n",
            "Requirement already satisfied: PyYAML in /usr/local/lib/python3.10/dist-packages (from pyaml->coremltools) (6.0.1)\n",
            "Requirement already satisfied: mpmath>=0.19 in /usr/local/lib/python3.10/dist-packages (from sympy->coremltools) (1.3.0)\n",
            "Installing collected packages: pyaml, cattrs, coremltools\n",
            "Successfully installed cattrs-23.1.2 coremltools-7.0 pyaml-23.9.7\n"
          ]
        }
      ],
      "source": [
        "!pip install coremltools"
      ]
    },
    {
      "cell_type": "code",
      "source": [
        "#Converting Teachable Machine trained model to CoreML model\n",
        "\n",
        "from keras.models import load_model\n",
        "import coremltools as ct\n",
        "import tensorflow as tf\n",
        "model = tf.keras.models.load_model('/content/keras_model.h5')\n",
        "image_input = ct.ImageType()\n",
        "f=open(\"/content/labels.txt\", \"r\")\n",
        "contents = f.read().splitlines()\n",
        "for i, label in enumerate(contents):\n",
        " if isinstance(label, bytes):\n",
        "   contents[i] = label.decode(\"utf8\")\n",
        "classifier_config = ct.ClassifierConfig(contents)\n",
        "image_input = ct.ImageType(shape=(1, 224, 224, 3,),bias=[-1,-1,-1], scale=1/127)\n",
        "mlmodel = ct.convert(\n",
        "   model,\n",
        "   source=\"tensorflow\",\n",
        "   inputs=[image_input],\n",
        "   classifier_config=classifier_config,\n",
        ")\n",
        "mlmodel.author = 'Pranav'\n",
        "mlmodel.short_description = 'Celebrity Recognition with TeachableMachine'\n",
        "mlmodel.save('celebrityDetection.mlpackage')"
      ],
      "metadata": {
        "colab": {
          "base_uri": "https://localhost:8080/"
        },
        "id": "Wb_Q6KfCxk5X",
        "outputId": "be3a5a2f-c32d-4262-9355-2753840011b8"
      },
      "execution_count": 4,
      "outputs": [
        {
          "output_type": "stream",
          "name": "stderr",
          "text": [
            "WARNING:coremltools:When both 'convert_to' and 'minimum_deployment_target' not specified, 'convert_to' is set to \"mlprogram\" and 'minimum_deployment_targer' is set to ct.target.iOS15 (which is same as ct.target.macOS12). Note: the model will not run on systems older than iOS15/macOS12/watchOS8/tvOS15. In order to make your model run on older system, please set the 'minimum_deployment_target' to iOS14/iOS13. Details please see the link: https://coremltools.readme.io/docs/unified-conversion-api#target-conversion-formats\n",
            "Running TensorFlow Graph Passes: 100%|██████████| 6/6 [00:00<00:00, 15.97 passes/s]\n",
            "Converting TF Frontend ==> MIL Ops: 100%|██████████| 431/431 [00:00<00:00, 1143.88 ops/s]\n",
            "Running MIL frontend_tensorflow2 pipeline: 100%|██████████| 7/7 [00:00<00:00, 168.92 passes/s]\n",
            "Running MIL default pipeline: 100%|██████████| 66/66 [00:02<00:00, 23.26 passes/s]\n",
            "Running MIL backend_mlprogram pipeline: 100%|██████████| 12/12 [00:00<00:00, 303.44 passes/s]\n"
          ]
        }
      ]
    },
    {
      "cell_type": "code",
      "source": [
        "#gerar zip da pasta criada em\n",
        "import shutil\n",
        "\n",
        "# Defina o caminho da pasta que você deseja compactar\n",
        "pasta_para_compressao = '/content/celebrityDetection.mlpackage'\n",
        "\n",
        "# Compacte a pasta\n",
        "shutil.make_archive('/content/pasta_comprimida', 'zip', pasta_para_compressao)\n"
      ],
      "metadata": {
        "colab": {
          "base_uri": "https://localhost:8080/",
          "height": 35
        },
        "id": "g48xjpSkzhi2",
        "outputId": "6dbab881-4913-4ef2-f0f3-41afed94f494"
      },
      "execution_count": 5,
      "outputs": [
        {
          "output_type": "execute_result",
          "data": {
            "text/plain": [
              "'/content/pasta_comprimida.zip'"
            ],
            "application/vnd.google.colaboratory.intrinsic+json": {
              "type": "string"
            }
          },
          "metadata": {},
          "execution_count": 5
        }
      ]
    }
  ]
}